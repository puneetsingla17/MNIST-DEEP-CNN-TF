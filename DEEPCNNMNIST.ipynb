{
  "cells": [
    {
      "metadata": {
        "trusted": true,
        "_uuid": "b90f8f440e3c748496aa49652c985473e0f730e8"
      },
      "cell_type": "code",
      "source": "import numpy as np\nimport tensorflow as tf\nimport matplotlib.pyplot as plt\n%matplotlib inline\nfrom keras.utils import np_utils",
      "execution_count": 1,
      "outputs": [
        {
          "output_type": "stream",
          "text": "Using TensorFlow backend.\n",
          "name": "stderr"
        }
      ]
    },
    {
      "metadata": {
        "trusted": true,
        "_uuid": "fb24fefc8888744646fc1c7d9a2d77bc86978640"
      },
      "cell_type": "code",
      "source": "from keras.datasets import mnist",
      "execution_count": 2,
      "outputs": []
    },
    {
      "metadata": {
        "trusted": true,
        "_uuid": "b0729ddb5c1bacd981c5c94b19695edc8733098b"
      },
      "cell_type": "code",
      "source": "(xtrain,ytrain),(xtest,ytest)=mnist.load_data()",
      "execution_count": 3,
      "outputs": [
        {
          "output_type": "stream",
          "text": "Downloading data from https://s3.amazonaws.com/img-datasets/mnist.npz\n11493376/11490434 [==============================] - 1s 0us/step\n",
          "name": "stdout"
        }
      ]
    },
    {
      "metadata": {
        "trusted": true,
        "_uuid": "4f21f49cfff048e67a0c202d00a1a7f72ec4f680"
      },
      "cell_type": "code",
      "source": "xtrain1=xtrain/255\nxtest1=xtest/255",
      "execution_count": 4,
      "outputs": []
    },
    {
      "metadata": {
        "trusted": true,
        "_uuid": "04c3db911dcf1373128a27b421173daa285dfeb3"
      },
      "cell_type": "code",
      "source": "ytrain.shape",
      "execution_count": 5,
      "outputs": [
        {
          "output_type": "execute_result",
          "execution_count": 5,
          "data": {
            "text/plain": "(60000,)"
          },
          "metadata": {}
        }
      ]
    },
    {
      "metadata": {
        "trusted": true,
        "_uuid": "f2a9abcdae1c86c0a93f30c6c484b8926a015aca"
      },
      "cell_type": "code",
      "source": "xtrain1=xtrain1.reshape([-1,28,28,1])\nxtest1=xtest1.reshape([-1,28,28,1])",
      "execution_count": 6,
      "outputs": []
    },
    {
      "metadata": {
        "trusted": true,
        "_uuid": "ee7b2566a68550c22dc2954672fa970b9fe58338"
      },
      "cell_type": "code",
      "source": "ytrain1=np_utils.to_categorical(ytrain,10)\nytest1=np_utils.to_categorical(ytest,10)",
      "execution_count": 7,
      "outputs": []
    },
    {
      "metadata": {
        "trusted": true,
        "_uuid": "80c816d2faf19860bd2dc8bdea95441c83802cff"
      },
      "cell_type": "code",
      "source": "#plt.imshow(xtrain1[0])",
      "execution_count": 8,
      "outputs": []
    },
    {
      "metadata": {
        "trusted": true,
        "_uuid": "ea4869cf9b5122516d18d8baf8e1c7ab236973f5"
      },
      "cell_type": "code",
      "source": "plt.imshow(xtrain[0])",
      "execution_count": 9,
      "outputs": [
        {
          "output_type": "execute_result",
          "execution_count": 9,
          "data": {
            "text/plain": "<matplotlib.image.AxesImage at 0x7f8f3a0c27b8>"
          },
          "metadata": {}
        },
        {
          "output_type": "display_data",
          "data": {
            "text/plain": "<Figure size 432x288 with 1 Axes>",
            "image/png": "[encoded data removed]"
          },
          "metadata": {}
        }
      ]
    },
    {
      "metadata": {
        "trusted": true,
        "_uuid": "17994c7fbcb12e9a5c85a45a8bfc11911fff07d1"
      },
      "cell_type": "code",
      "source": "def get_weights(shape):\n    W=tf.Variable(tf.truncated_normal(shape,stddev=0.1,dtype=tf.float32))\n    return W\n\ndef get_bias(length):\n    b=tf.Variable(tf.constant(0.1,shape=[length],dtype=tf.float32))\n    return b",
      "execution_count": 10,
      "outputs": []
    },
    {
      "metadata": {
        "trusted": true,
        "_uuid": "e8c5492efe46e2c4a7ce069124e72c04f11176f3"
      },
      "cell_type": "code",
      "source": "def conv2d(X,W):\n    return tf.nn.conv2d(X,W,strides=[1,1,1,1],padding='SAME')\n\n# X   >> [batch, in_height, in_width, in_channels]\n# W   >> [filter_height * filter_width * in_channels, output_channels]",
      "execution_count": 11,
      "outputs": []
    },
    {
      "metadata": {
        "trusted": true,
        "_uuid": "568bce2337720e229962161b0f89fcc359c784fc"
      },
      "cell_type": "code",
      "source": "def maxpool(X,f,s):\n    return tf.nn.max_pool(X,ksize=[1,f,f,1],strides=[1,s,s,1],padding='SAME')",
      "execution_count": 12,
      "outputs": []
    },
    {
      "metadata": {
        "trusted": true,
        "_uuid": "c444fca5a9376457ced69dfba3bbd8ec1bbecbe0"
      },
      "cell_type": "code",
      "source": "def convlayer(input1,shape):\n    W=get_weights(shape)\n    b=get_bias(shape[3])\n    return tf.nn.relu(conv2d(input1,W)+b)",
      "execution_count": 13,
      "outputs": []
    },
    {
      "metadata": {
        "trusted": true,
        "_uuid": "7f010ec53a3da98fd938e38a42c8a9b4b17a61e1"
      },
      "cell_type": "code",
      "source": "def normal_fc_layer(input1,size):\n    shape1=int(input1.get_shape()[1])\n    shape=[shape1,size]\n    W=get_weights(shape)\n    b=get_bias(size)\n    return (tf.matmul(input1,W)+b)",
      "execution_count": 14,
      "outputs": []
    },
    {
      "metadata": {
        "trusted": true,
        "_uuid": "693eb5730f5c3e44ee73fd795e23dc1bace32de3"
      },
      "cell_type": "code",
      "source": "X=tf.placeholder(tf.float32,shape=[None,28,28,1])\nY=tf.placeholder(tf.float32,shape=[None,10])",
      "execution_count": 15,
      "outputs": []
    },
    {
      "metadata": {
        "trusted": true,
        "_uuid": "99b47c7742066d56394e8a73f423138ff093413f"
      },
      "cell_type": "code",
      "source": "conv1=convlayer(X,[6,6,1,32])",
      "execution_count": 16,
      "outputs": []
    },
    {
      "metadata": {
        "trusted": true,
        "_uuid": "80fe67b9d5805f5879582827d3a5fbd3196a6ca3"
      },
      "cell_type": "code",
      "source": "max1=maxpool(conv1,2,2)",
      "execution_count": 17,
      "outputs": []
    },
    {
      "metadata": {
        "trusted": true,
        "_uuid": "b971a2535ebab9fdd580738d34ed8f0b8539db8d"
      },
      "cell_type": "code",
      "source": "max1.get_shape()",
      "execution_count": 18,
      "outputs": [
        {
          "output_type": "execute_result",
          "execution_count": 18,
          "data": {
            "text/plain": "TensorShape([Dimension(None), Dimension(14), Dimension(14), Dimension(32)])"
          },
          "metadata": {}
        }
      ]
    },
    {
      "metadata": {
        "trusted": true,
        "_uuid": "9cf9332c488f33f5c30fd86f85e443314a08e404"
      },
      "cell_type": "code",
      "source": "conv2=convlayer(max1,[6,6,32,64])\nmax2=maxpool(conv2,2,2)",
      "execution_count": 19,
      "outputs": []
    },
    {
      "metadata": {
        "trusted": true,
        "_uuid": "ba7d186f22e1150d5cce8c5b0c4c9d6d547b46bd"
      },
      "cell_type": "code",
      "source": "max2.get_shape()",
      "execution_count": 20,
      "outputs": [
        {
          "output_type": "execute_result",
          "execution_count": 20,
          "data": {
            "text/plain": "TensorShape([Dimension(None), Dimension(7), Dimension(7), Dimension(64)])"
          },
          "metadata": {}
        }
      ]
    },
    {
      "metadata": {
        "trusted": true,
        "_uuid": "2b08fb44836db2eed156a27e09c31b0c67108d97"
      },
      "cell_type": "code",
      "source": "#Flatten\nfl_layer=tf.reshape(max2,shape=[-1,7*7*64])\nFC1=tf.nn.relu(normal_fc_layer(fl_layer,128))",
      "execution_count": 21,
      "outputs": []
    },
    {
      "metadata": {
        "trusted": true,
        "_uuid": "f604abf71760857e244ac5543d534ccf90190845"
      },
      "cell_type": "code",
      "source": "FC1.get_shape()",
      "execution_count": 22,
      "outputs": [
        {
          "output_type": "execute_result",
          "execution_count": 22,
          "data": {
            "text/plain": "TensorShape([Dimension(None), Dimension(128)])"
          },
          "metadata": {}
        }
      ]
    },
    {
      "metadata": {
        "trusted": true,
        "_uuid": "f1754806514338050684c901a5946778e31b2d8f"
      },
      "cell_type": "code",
      "source": "hold_prob1=tf.placeholder(tf.float32)\nhold_prob2=tf.placeholder(tf.float32)",
      "execution_count": 23,
      "outputs": []
    },
    {
      "metadata": {
        "trusted": true,
        "_uuid": "b7e0a8768f1e872fe4a4b2768e08aa836ba1947f"
      },
      "cell_type": "code",
      "source": "drop1=tf.nn.dropout(FC1,keep_prob=hold_prob1)\nFC2=normal_fc_layer(drop1,64)",
      "execution_count": 24,
      "outputs": []
    },
    {
      "metadata": {
        "trusted": true,
        "_uuid": "005aa7bfcaff9c696759e29eed353e43c69a5039"
      },
      "cell_type": "code",
      "source": "drop2=tf.nn.dropout(FC2,keep_prob=hold_prob2)",
      "execution_count": 25,
      "outputs": []
    },
    {
      "metadata": {
        "trusted": true,
        "_uuid": "e3518069eae5cae8964cd2d985c22c93150e8309"
      },
      "cell_type": "code",
      "source": "ypred=normal_fc_layer(drop2,10)",
      "execution_count": 26,
      "outputs": []
    },
    {
      "metadata": {
        "trusted": true,
        "_uuid": "f80ce1b2cc4a6349ca338c015358847bbd79aa69"
      },
      "cell_type": "code",
      "source": "cross_entropy=tf.reduce_mean(tf.nn.softmax_cross_entropy_with_logits_v2(labels=Y,logits=ypred))",
      "execution_count": 27,
      "outputs": []
    },
    {
      "metadata": {
        "trusted": true,
        "_uuid": "2114259a5ec48464e8c615049494f5514fb4ffc5"
      },
      "cell_type": "code",
      "source": "optimizer=tf.train.AdamOptimizer(learning_rate=0.01)\ntrain=optimizer.minimize(cross_entropy)",
      "execution_count": 28,
      "outputs": []
    },
    {
      "metadata": {
        "trusted": true,
        "_uuid": "b6a85dba7a72ff83c5c490f69f0784542a6dfdd6"
      },
      "cell_type": "code",
      "source": "init=tf.global_variables_initializer()",
      "execution_count": 29,
      "outputs": []
    },
    {
      "metadata": {
        "trusted": true,
        "_uuid": "dda2ddaeb27642b8d4dc59261c75c73b989106cf"
      },
      "cell_type": "code",
      "source": "nepochs=5\nbatch_size=60\ntrainloss=[]\ntestloss=[]\nwith tf.Session() as s:\n    s.run(init)\n    for j in range(nepochs):\n        for i in range(60000//batch_size):\n            batch_x,batch_y=xtrain1[i*batch_size:(i+1)*batch_size],ytrain1[i*batch_size:(i+1)*batch_size]\n            _,l=s.run([train,cross_entropy],feed_dict={X:batch_x,Y:batch_y,hold_prob1:0.3,hold_prob2:0.3})\n            if i in [100,200,300,400,500]:\n                \n                l1=s.run(cross_entropy,feed_dict={X:xtest1,Y:ytest1,hold_prob1:0.3,hold_prob2:0.3})\n                print(\"epoch:\",j,\" and testloss:\",l1)\n                testloss.append(l1)",
      "execution_count": 31,
      "outputs": [
        {
          "output_type": "stream",
          "text": "epoch: 0  and testloss: 1.2206224\nepoch: 0  and testloss: 0.71960384\nepoch: 0  and testloss: 0.58075154\nepoch: 0  and testloss: 0.5551187\nepoch: 0  and testloss: 0.50456804\nepoch: 1  and testloss: 0.43662924\nepoch: 1  and testloss: 0.57006395\nepoch: 1  and testloss: 0.46326104\nepoch: 1  and testloss: 0.5167423\nepoch: 1  and testloss: 0.49642187\nepoch: 2  and testloss: 0.5069963\nepoch: 2  and testloss: 0.5308382\nepoch: 2  and testloss: 0.66441125\nepoch: 2  and testloss: 0.5691927\nepoch: 2  and testloss: 0.4686712\nepoch: 3  and testloss: 0.59222305\nepoch: 3  and testloss: 0.72706807\nepoch: 3  and testloss: 0.5233385\nepoch: 3  and testloss: 0.6421174\nepoch: 3  and testloss: 0.6078981\nepoch: 4  and testloss: 0.47657877\nepoch: 4  and testloss: 0.6250025\nepoch: 4  and testloss: 0.571846\nepoch: 4  and testloss: 0.5410773\nepoch: 4  and testloss: 0.56425714\n",
          "name": "stdout"
        }
      ]
    },
    {
      "metadata": {
        "trusted": true,
        "_uuid": "5cb1c4b67c9450bb7ccd764dd6531a13fb1fba46"
      },
      "cell_type": "code",
      "source": "plt.plot(testloss,'r')",
      "execution_count": 32,
      "outputs": [
        {
          "output_type": "execute_result",
          "execution_count": 32,
          "data": {
            "text/plain": "[<matplotlib.lines.Line2D at 0x7f8f3431a080>]"
          },
          "metadata": {}
        },
        {
          "output_type": "display_data",
          "data": {
            "text/plain": "<Figure size 432x288 with 1 Axes>",
            "image/png": "[encoded data removed]"
          },
          "metadata": {}
        }
      ]
    },
    {
      "metadata": {
        "trusted": true,
        "_uuid": "c5f72f4faf5e8cf1d5da6008d213068a4d21f2ff"
      },
      "cell_type": "code",
      "source": "",
      "execution_count": null,
      "outputs": []
    },
    {
      "metadata": {
        "trusted": true,
        "_uuid": "19a4635bd734e3da12ee5c19242c71dd040a39d9"
      },
      "cell_type": "code",
      "source": "",
      "execution_count": null,
      "outputs": []
    }
  ],
  "metadata": {
    "anaconda-cloud": {},
    "kernelspec": {
      "display_name": "Python 3",
      "language": "python",
      "name": "python3"
    },
    "language_info": {
      "name": "python",
      "version": "3.6.6",
      "mimetype": "text/x-python",
      "codemirror_mode": {
        "name": "ipython",
        "version": 3
      },
      "pygments_lexer": "ipython3",
      "nbconvert_exporter": "python",
      "file_extension": ".py"
    }
  },
  "nbformat": 4,
  "nbformat_minor": 1
}